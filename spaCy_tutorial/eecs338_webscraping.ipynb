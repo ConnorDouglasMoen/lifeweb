{
 "cells": [
  {
   "cell_type": "markdown",
   "metadata": {},
   "source": [
    "# EECS 338 \n",
    "## Webscraping Notebook\n",
    "\n",
    "### 04/24/2019\n",
    "### This is a jupyter notebook to be used to scrape internet data"
   ]
  },
  {
   "cell_type": "code",
   "execution_count": null,
   "metadata": {},
   "outputs": [],
   "source": [
    "from __future__ import with_statement\n",
    "from selenium import webdriver\n",
    "from selenium.webdriver.common.by import By\n",
    "from selenium.webdriver.support.ui import WebDriverWait\n",
    "from selenium.webdriver.support import expected_conditions as EC"
   ]
  },
  {
   "cell_type": "code",
   "execution_count": null,
   "metadata": {},
   "outputs": [],
   "source": [
    "browser = webdriver.Chrome('/Users/aea/Downloads/chromedriver')\n",
    "names = ['Smith', 'Johnson', 'Jones', 'Moen', 'Chen', 'Alwan', 'Briggs', 'Louis',\n",
    "         \"Williams\", \"Brown\", \"Garcia\", \"Rodriguez\", \"Miller\", \"Davis\"]"
   ]
  },
  {
   "cell_type": "code",
   "execution_count": null,
   "metadata": {
    "scrolled": true
   },
   "outputs": [],
   "source": [
    "links = []  # create empty list for all links\n",
    "\n",
    "for name in names:\n",
    "    element_names = []    # create temporary list for element names\n",
    "    \n",
    "    # perform search by last name\n",
    "    browser.get('https://www.forevermissed.com/findmemorial/?q=' + name)\n",
    "    \n",
    "    # obtain search result line\n",
    "    search_result = browser.find_elements_by_class_name(\"bar\")\n",
    "    \n",
    "    # obtain number of people that match search result\n",
    "    for res in search_result:\n",
    "        # convert to string type\n",
    "        num_results = str(res.text)\n",
    "\n",
    "        # obtain the number of search results found\n",
    "        num_results = ''.join(filter(lambda x: x.isdigit(), txt))\n",
    "        \n",
    "    # we have the number....\n",
    "    num_results = int(num_results)    \n",
    "    offset = 0\n",
    "\n",
    "    # while loop that resets webpage to display 30 new individuals so that we can obtain 30 more links\n",
    "    while offset < num_results:\n",
    "        \n",
    "        # navigate to webpage with 30 search results\n",
    "        browser.get('https://www.forevermissed.com/findmemorial/?q=' + name + '&offset=' + str(offset))\n",
    "        \n",
    "        # increase the offset by 30 to obtain 30 new results next loop through\n",
    "        offset += 30\n",
    "    \n",
    "        # obtain the link for the individual\n",
    "        inputElement = browser.find_elements_by_class_name(\"memorial-link\")\n",
    "\n",
    "        # append the links to a list\n",
    "        for el in inputElement:\n",
    "            element_names.append(el.text)\n",
    "\n",
    "    # append the list of links to a larger list        \n",
    "    links.append(element_names)\n",
    "    \n",
    "links\n",
    "\n",
    "# remove troublesome links (because they are too long)\n",
    "links[1].remove('grandpa-fred-uncle-mike-and-my-step-dad-grandma-paula-and-grandma-joanne.forevermissed.com')\n",
    "links[0].remove('louise-monica-vincent-big-funk-aunt-re-jane-and-sylvester-smith-love-williams-and-pirtle.forevermissed.com')\n",
    "\n",
    "\n",
    "# output links to a text file\n",
    "with open('memorial_links.txt', 'w') as f:\n",
    "    for _list in links:\n",
    "        f.write(str(_list) + '\\n')\n",
    "            \n",
    "file.close()\n",
    "\n",
    "\n"
   ]
  },
  {
   "cell_type": "code",
   "execution_count": null,
   "metadata": {
    "scrolled": true
   },
   "outputs": [],
   "source": [
    "from bs4 import BeautifulSoup as bs\n",
    "import requests\n",
    "\n",
    "tribute_text = []\n",
    "\n",
    "for i in range(0, len(links)):\n",
    "    for link in links[i]:\n",
    "         \n",
    "        response = requests.get('http://' + link)\n",
    "        # print(response.text)  \n",
    "\n",
    "        soup = bs(response.text, \"html.parser\")\n",
    "        # print(soup.prettify())\n",
    "\n",
    "        # obtain the text from written tribute\n",
    "        user_text = soup.findAll(attrs={'class':'txt user_text'})\n",
    "\n",
    "        # iterate through each instance and convert text to string type\n",
    "        for text in user_text:\n",
    "            tribute_text.append(str(text))\n",
    "\n"
   ]
  },
  {
   "cell_type": "code",
   "execution_count": null,
   "metadata": {},
   "outputs": [],
   "source": [
    "cleaned_text = []\n",
    "\n",
    "# clean the data\n",
    "for item in tribute_text:\n",
    "#     print(item)\n",
    "    item = item.strip('\\n')\n",
    "    item = item.strip('<div class=\"txt user_text\">')\n",
    "    item = item.strip('</')\n",
    "    item = item.replace('\\n', ' ')\n",
    "    \n",
    "#     print(item)\n",
    "    cleaned_text.append(item)\n",
    "    \n",
    "# print(cleaned_text)\n",
    "\n",
    "# output to a text file\n",
    "with open('cleaned_text.txt', 'w') as f:\n",
    "    for _list in cleaned_text:\n",
    "        f.write(str(_list) + '\\n')\n",
    "            \n",
    "file.close()"
   ]
  },
  {
   "cell_type": "code",
   "execution_count": null,
   "metadata": {},
   "outputs": [],
   "source": [
    "# # do this for the \"Smith\" last names\n",
    "# memories_list = []\n",
    "\n",
    "# for link in links[3]:\n",
    "#     browser.get('http://' + link)\n",
    "    \n",
    "# #     WebDriverWait(browser, 10).until(EC.presence_of_element_located((By.ID, \"page-tributes\")))\n",
    "# #     WebDriverWait(browser, 10).until(EC.presence_of_all_elements_located)\n",
    "    \n",
    "# #     WebDriverWait(browser, 2000)\n",
    "    \n",
    "# #     inputElement = browser.find_elements_by_css_selector(\"txt user_text\")\n",
    "#     inputElement = browser.find_elements_by_class_name(\".personal_phrase_font.long\")\n",
    "#     inputElement = browser.find_element(By.CSS_SELECTOR, \"txt user_text\")\n",
    "#     print(inputElement)\n",
    "    \n",
    "    \n",
    "#     for el in inputElement:\n",
    "#         print(el.text)\n",
    "# #         memories_list.append(el.text)\n",
    "\n",
    "    \n",
    "\n"
   ]
  },
  {
   "cell_type": "code",
   "execution_count": null,
   "metadata": {},
   "outputs": [],
   "source": []
  }
 ],
 "metadata": {
  "kernelspec": {
   "display_name": "Python 3",
   "language": "python",
   "name": "python3"
  },
  "language_info": {
   "codemirror_mode": {
    "name": "ipython",
    "version": 3
   },
   "file_extension": ".py",
   "mimetype": "text/x-python",
   "name": "python",
   "nbconvert_exporter": "python",
   "pygments_lexer": "ipython3",
   "version": "3.6.8"
  }
 },
 "nbformat": 4,
 "nbformat_minor": 2
}
