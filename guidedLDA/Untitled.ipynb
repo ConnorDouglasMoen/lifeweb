{
 "cells": [
  {
   "cell_type": "markdown",
   "metadata": {},
   "source": [
    "# Guided LDA Topic Modeling"
   ]
  },
  {
   "cell_type": "code",
   "execution_count": 31,
   "metadata": {},
   "outputs": [],
   "source": [
    "import numpy as np\n",
    "from sklearn.feature_extraction.text import CountVectorizer\n",
    "import operator"
   ]
  },
  {
   "cell_type": "code",
   "execution_count": 12,
   "metadata": {},
   "outputs": [
    {
     "name": "stdout",
     "output_type": "stream",
     "text": [
      "I miss you everyday but today is the worst day since that day xx you are the best dad any girl Could want , I was and am so proud that you are my dad , such a funny kind witty perfect man xxx my daddy , my friend , my protector . RIEP daddio love your nicnacnoo xxxx\n",
      "\n"
     ]
    }
   ],
   "source": [
    "# Import the text data into an array where each entry is a unique memorial\n",
    "\n",
    "data = []\n",
    "with open('cleaned_text.txt', mode='r') as rows:\n",
    "    for r in rows:\n",
    "        data.append(r.strip())\n",
    "print(data[1])"
   ]
  },
  {
   "cell_type": "code",
   "execution_count": 36,
   "metadata": {},
   "outputs": [
    {
     "name": "stdout",
     "output_type": "stream",
     "text": [
      "['recollections', 'recommend', 'recommendations', 'recommended', 'reconcile', 'reconnect', 'reconnected', 'reconnecting', 'reconsider', 'record', 'recorded', 'recording', 'recordings', 'records', 'recounted', 'recounting', 'recover', 'recovered', 'recovering', 'recovery', 'recruit', 'recruiter', 'red', 'redan', 'redcliffe', 'redd', 'redding', 'reddish', 'redeemer', 'redemption', 'redland', 'redmond', 'reduced', 'redwoods', 'reeds', 'reel', 'reeling', 'reenlisted', 'reese', 'ref', 'refer', 'references', 'referrals', 'referred', 'refined', 'reflect', 'reflected', 'reflecting', 'reflection', 'reflections', 'reflects', 'reformed', 'refrain', 'refresh', 'refreshes', 'refreshing', 'refreshments', 'refrigerator', 'refuge', 'refurnish', 'refuse', 'refused', 'refusing', 'regain', 'regan', 'regard', 'regardless', 'regards', 'regents', 'reggie', 'regiment', 'regina', 'reginald', 'region', 'regions', 'registration', 'regret', 'regretfully', 'regrets', 'regt', 'reguarding', 'regular', 'regularly', 'regulations', 'rehab', 'rehabilitation', 'rehabs', 'rehearse', 'rehearsed', 'rehobeth', 'rehsawn', 'reilly', 'reine', 'reinforced', 'reining', 'reinventing', 'rejoice', 'rejoiced', 'rejoices', 'rejoicing']\n"
     ]
    }
   ],
   "source": [
    "# now form the document frequency matrix\n",
    "\n",
    "vectorizer = CountVectorizer()\n",
    "X = vectorizer.fit_transform(data) # X is a matrix of dimensions (num documents, length of vocab) where X[i,j] is the number of times word j appears in doc i\n",
    "freq = np.ravel(X.sum(axis=0)) # freq is an array of ints where freq[j] is the frequency word j appeared across all documents\n",
    "\n",
    "# extract vocab list from X\n",
    "# get vocabulary keys, sorted by value\n",
    "vocab = [v[0] for v in sorted(vectorizer.vocabulary_.items(), key=operator.itemgetter(1))]\n",
    "fdist = dict(zip(vocab, freq)) # return same format as nltk\n",
    "\n",
    "print(vocab[11000:11100])"
   ]
  },
  {
   "cell_type": "code",
   "execution_count": null,
   "metadata": {},
   "outputs": [],
   "source": []
  }
 ],
 "metadata": {
  "kernelspec": {
   "display_name": "Python 3",
   "language": "python",
   "name": "python3"
  },
  "language_info": {
   "codemirror_mode": {
    "name": "ipython",
    "version": 3
   },
   "file_extension": ".py",
   "mimetype": "text/x-python",
   "name": "python",
   "nbconvert_exporter": "python",
   "pygments_lexer": "ipython3",
   "version": "3.7.3"
  }
 },
 "nbformat": 4,
 "nbformat_minor": 2
}
