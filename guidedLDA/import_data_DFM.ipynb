{
 "cells": [
  {
   "cell_type": "markdown",
   "metadata": {},
   "source": [
    "# Guided LDA Topic Modeling"
   ]
  },
  {
   "cell_type": "code",
   "execution_count": 6,
   "metadata": {},
   "outputs": [],
   "source": [
    "import numpy as np\n",
    "from sklearn.feature_extraction.text import CountVectorizer\n",
    "import operator"
   ]
  },
  {
   "cell_type": "code",
   "execution_count": 9,
   "metadata": {},
   "outputs": [
    {
     "name": "stdout",
     "output_type": "stream",
     "text": [
      "One of the greatest person I had the pleasure of being in my family my brother in law Dave the uncle and God father to my 3 children a true legend we had so many good times and many a crazy time together just to see your amazing smile one more time and a few of them jokes I miss you so much Dave would love to have a beer together again although that always got messy  until we meet again RIP love you always and forever in our hearts xx\n"
     ]
    }
   ],
   "source": [
    "# Import the text data into an array where each entry is a unique memorial\n",
    "\n",
    "data = []\n",
    "with open('cleaned_text.txt', mode='r') as rows:\n",
    "    for r in rows:\n",
    "        data.append(r.strip())\n",
    "print(data[1])"
   ]
  },
  {
   "cell_type": "code",
   "execution_count": 10,
   "metadata": {},
   "outputs": [
    {
     "name": "stdout",
     "output_type": "stream",
     "text": [
      "['recollections', 'recommend', 'recommendations', 'recommended', 'reconcile', 'reconnect', 'reconnected', 'reconnecting', 'reconsider', 'record', 'recorded', 'recording', 'recordings', 'records', 'recounted', 'recounting', 'recover', 'recovered', 'recovering', 'recovery', 'recruit', 'recruiter', 'red', 'redan', 'redcliffe', 'redd', 'redding', 'reddish', 'redeemer', 'redemption', 'redland', 'redmond', 'reduced', 'redwoods', 'reeds', 'reel', 'reeling', 'reenlisted', 'reese', 'ref', 'refer', 'references', 'referrals', 'referred', 'refined', 'reflect', 'reflected', 'reflecting', 'reflection', 'reflections', 'reflects', 'reformed', 'refrain', 'refresh', 'refreshes', 'refreshing', 'refreshments', 'refrigerator', 'refuge', 'refurnish', 'refuse', 'refused', 'refusing', 'regain', 'regan', 'regard', 'regardless', 'regards', 'regents', 'reggie', 'regiment', 'regina', 'reginald', 'region', 'regions', 'registration', 'regret', 'regretfully', 'regrets', 'regt', 'reguarding', 'regular', 'regularly', 'regulations', 'rehab', 'rehabilitation', 'rehabs', 'rehearse', 'rehearsed', 'rehobeth', 'rehsawn', 'reilly', 'reine', 'reinforced', 'reining', 'reinventing', 'rejoice', 'rejoiced', 'rejoices', 'rejoicing']\n"
     ]
    }
   ],
   "source": [
    "# now form the document frequency matrix\n",
    "\n",
    "vectorizer = CountVectorizer()\n",
    "X = vectorizer.fit_transform(data) # X is a matrix of dimensions (num documents, length of vocab) where X[i,j] is the number of times word j appears in doc i\n",
    "freq = np.ravel(X.sum(axis=0)) # freq is an array of ints where freq[j] is the frequency word j appeared across all documents\n",
    "\n",
    "# extract vocab list from X\n",
    "# get vocabulary keys, sorted by value\n",
    "vocab = [v[0] for v in sorted(vectorizer.vocabulary_.items(), key=operator.itemgetter(1))]\n",
    "fdist = dict(zip(vocab, freq)) # return same format as nltk\n",
    "\n",
    "print(vocab[11000:11100])"
   ]
  },
  {
   "cell_type": "code",
   "execution_count": null,
   "metadata": {},
   "outputs": [],
   "source": []
  },
  {
   "cell_type": "code",
   "execution_count": null,
   "metadata": {},
   "outputs": [],
   "source": []
  }
 ],
 "metadata": {
  "kernelspec": {
   "display_name": "Python 3",
   "language": "python",
   "name": "python3"
  },
  "language_info": {
   "codemirror_mode": {
    "name": "ipython",
    "version": 3
   },
   "file_extension": ".py",
   "mimetype": "text/x-python",
   "name": "python",
   "nbconvert_exporter": "python",
   "pygments_lexer": "ipython3",
   "version": "3.7.3"
  }
 },
 "nbformat": 4,
 "nbformat_minor": 2
}
