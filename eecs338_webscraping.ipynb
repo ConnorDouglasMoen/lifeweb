{
 "cells": [
  {
   "cell_type": "markdown",
   "metadata": {},
   "source": [
    "# EECS 338 \n",
    "## Webscraping Notebook\n",
    "\n",
    "### 04/24/2019\n",
    "### This is a jupyter notebook to be used to scrape internet data"
   ]
  },
  {
   "cell_type": "code",
   "execution_count": 3,
   "metadata": {},
   "outputs": [],
   "source": [
    "from __future__ import with_statement\n",
    "from selenium import webdriver\n",
    "from selenium.webdriver.common.by import By\n",
    "from selenium.webdriver.support.ui import WebDriverWait\n",
    "from selenium.webdriver.support import expected_conditions as EC"
   ]
  },
  {
   "cell_type": "code",
   "execution_count": 4,
   "metadata": {},
   "outputs": [
    {
     "ename": "WebDriverException",
     "evalue": "Message: 'chromedriver' executable needs to be in PATH. Please see https://sites.google.com/a/chromium.org/chromedriver/home\n",
     "output_type": "error",
     "traceback": [
      "\u001b[0;31m---------------------------------------------------------------------------\u001b[0m",
      "\u001b[0;31mFileNotFoundError\u001b[0m                         Traceback (most recent call last)",
      "\u001b[0;32m~/anaconda3/lib/python3.7/site-packages/selenium/webdriver/common/service.py\u001b[0m in \u001b[0;36mstart\u001b[0;34m(self)\u001b[0m\n\u001b[1;32m     75\u001b[0m                                             \u001b[0mstderr\u001b[0m\u001b[0;34m=\u001b[0m\u001b[0mself\u001b[0m\u001b[0;34m.\u001b[0m\u001b[0mlog_file\u001b[0m\u001b[0;34m,\u001b[0m\u001b[0;34m\u001b[0m\u001b[0;34m\u001b[0m\u001b[0m\n\u001b[0;32m---> 76\u001b[0;31m                                             stdin=PIPE)\n\u001b[0m\u001b[1;32m     77\u001b[0m         \u001b[0;32mexcept\u001b[0m \u001b[0mTypeError\u001b[0m\u001b[0;34m:\u001b[0m\u001b[0;34m\u001b[0m\u001b[0;34m\u001b[0m\u001b[0m\n",
      "\u001b[0;32m~/anaconda3/lib/python3.7/subprocess.py\u001b[0m in \u001b[0;36m__init__\u001b[0;34m(self, args, bufsize, executable, stdin, stdout, stderr, preexec_fn, close_fds, shell, cwd, env, universal_newlines, startupinfo, creationflags, restore_signals, start_new_session, pass_fds, encoding, errors, text)\u001b[0m\n\u001b[1;32m    774\u001b[0m                                 \u001b[0merrread\u001b[0m\u001b[0;34m,\u001b[0m \u001b[0merrwrite\u001b[0m\u001b[0;34m,\u001b[0m\u001b[0;34m\u001b[0m\u001b[0;34m\u001b[0m\u001b[0m\n\u001b[0;32m--> 775\u001b[0;31m                                 restore_signals, start_new_session)\n\u001b[0m\u001b[1;32m    776\u001b[0m         \u001b[0;32mexcept\u001b[0m\u001b[0;34m:\u001b[0m\u001b[0;34m\u001b[0m\u001b[0;34m\u001b[0m\u001b[0m\n",
      "\u001b[0;32m~/anaconda3/lib/python3.7/subprocess.py\u001b[0m in \u001b[0;36m_execute_child\u001b[0;34m(self, args, executable, preexec_fn, close_fds, pass_fds, cwd, env, startupinfo, creationflags, shell, p2cread, p2cwrite, c2pread, c2pwrite, errread, errwrite, restore_signals, start_new_session)\u001b[0m\n\u001b[1;32m   1521\u001b[0m                             \u001b[0merr_msg\u001b[0m \u001b[0;34m+=\u001b[0m \u001b[0;34m': '\u001b[0m \u001b[0;34m+\u001b[0m \u001b[0mrepr\u001b[0m\u001b[0;34m(\u001b[0m\u001b[0merr_filename\u001b[0m\u001b[0;34m)\u001b[0m\u001b[0;34m\u001b[0m\u001b[0;34m\u001b[0m\u001b[0m\n\u001b[0;32m-> 1522\u001b[0;31m                     \u001b[0;32mraise\u001b[0m \u001b[0mchild_exception_type\u001b[0m\u001b[0;34m(\u001b[0m\u001b[0merrno_num\u001b[0m\u001b[0;34m,\u001b[0m \u001b[0merr_msg\u001b[0m\u001b[0;34m,\u001b[0m \u001b[0merr_filename\u001b[0m\u001b[0;34m)\u001b[0m\u001b[0;34m\u001b[0m\u001b[0;34m\u001b[0m\u001b[0m\n\u001b[0m\u001b[1;32m   1523\u001b[0m                 \u001b[0;32mraise\u001b[0m \u001b[0mchild_exception_type\u001b[0m\u001b[0;34m(\u001b[0m\u001b[0merr_msg\u001b[0m\u001b[0;34m)\u001b[0m\u001b[0;34m\u001b[0m\u001b[0;34m\u001b[0m\u001b[0m\n",
      "\u001b[0;31mFileNotFoundError\u001b[0m: [Errno 2] No such file or directory: '/Users/aea/Downloads/chromedriver': '/Users/aea/Downloads/chromedriver'",
      "\nDuring handling of the above exception, another exception occurred:\n",
      "\u001b[0;31mWebDriverException\u001b[0m                        Traceback (most recent call last)",
      "\u001b[0;32m<ipython-input-4-3ad8cd44600e>\u001b[0m in \u001b[0;36m<module>\u001b[0;34m\u001b[0m\n\u001b[0;32m----> 1\u001b[0;31m \u001b[0mbrowser\u001b[0m \u001b[0;34m=\u001b[0m \u001b[0mwebdriver\u001b[0m\u001b[0;34m.\u001b[0m\u001b[0mChrome\u001b[0m\u001b[0;34m(\u001b[0m\u001b[0;34m'/Users/aea/Downloads/chromedriver'\u001b[0m\u001b[0;34m)\u001b[0m\u001b[0;34m\u001b[0m\u001b[0;34m\u001b[0m\u001b[0m\n\u001b[0m\u001b[1;32m      2\u001b[0m names = ['Smith', 'Johnson', 'Jones', 'Moen', 'Chen', 'Alwan', 'Briggs', 'Louis',\n\u001b[1;32m      3\u001b[0m          \"Williams\", \"Brown\", \"Garcia\", \"Rodriguez\", \"Miller\", \"Davis\"]\n",
      "\u001b[0;32m~/anaconda3/lib/python3.7/site-packages/selenium/webdriver/chrome/webdriver.py\u001b[0m in \u001b[0;36m__init__\u001b[0;34m(self, executable_path, port, options, service_args, desired_capabilities, service_log_path, chrome_options, keep_alive)\u001b[0m\n\u001b[1;32m     71\u001b[0m             \u001b[0mservice_args\u001b[0m\u001b[0;34m=\u001b[0m\u001b[0mservice_args\u001b[0m\u001b[0;34m,\u001b[0m\u001b[0;34m\u001b[0m\u001b[0;34m\u001b[0m\u001b[0m\n\u001b[1;32m     72\u001b[0m             log_path=service_log_path)\n\u001b[0;32m---> 73\u001b[0;31m         \u001b[0mself\u001b[0m\u001b[0;34m.\u001b[0m\u001b[0mservice\u001b[0m\u001b[0;34m.\u001b[0m\u001b[0mstart\u001b[0m\u001b[0;34m(\u001b[0m\u001b[0;34m)\u001b[0m\u001b[0;34m\u001b[0m\u001b[0;34m\u001b[0m\u001b[0m\n\u001b[0m\u001b[1;32m     74\u001b[0m \u001b[0;34m\u001b[0m\u001b[0m\n\u001b[1;32m     75\u001b[0m         \u001b[0;32mtry\u001b[0m\u001b[0;34m:\u001b[0m\u001b[0;34m\u001b[0m\u001b[0;34m\u001b[0m\u001b[0m\n",
      "\u001b[0;32m~/anaconda3/lib/python3.7/site-packages/selenium/webdriver/common/service.py\u001b[0m in \u001b[0;36mstart\u001b[0;34m(self)\u001b[0m\n\u001b[1;32m     81\u001b[0m                 raise WebDriverException(\n\u001b[1;32m     82\u001b[0m                     \"'%s' executable needs to be in PATH. %s\" % (\n\u001b[0;32m---> 83\u001b[0;31m                         os.path.basename(self.path), self.start_error_message)\n\u001b[0m\u001b[1;32m     84\u001b[0m                 )\n\u001b[1;32m     85\u001b[0m             \u001b[0;32melif\u001b[0m \u001b[0merr\u001b[0m\u001b[0;34m.\u001b[0m\u001b[0merrno\u001b[0m \u001b[0;34m==\u001b[0m \u001b[0merrno\u001b[0m\u001b[0;34m.\u001b[0m\u001b[0mEACCES\u001b[0m\u001b[0;34m:\u001b[0m\u001b[0;34m\u001b[0m\u001b[0;34m\u001b[0m\u001b[0m\n",
      "\u001b[0;31mWebDriverException\u001b[0m: Message: 'chromedriver' executable needs to be in PATH. Please see https://sites.google.com/a/chromium.org/chromedriver/home\n"
     ]
    }
   ],
   "source": [
    "browser = webdriver.Chrome('/Users/aea/Downloads/chromedriver')\n",
    "names = ['Smith', 'Johnson', 'Jones', 'Moen', 'Chen', 'Alwan', 'Briggs', 'Louis',\n",
    "         \"Williams\", \"Brown\", \"Garcia\", \"Rodriguez\", \"Miller\", \"Davis\"]"
   ]
  },
  {
   "cell_type": "code",
   "execution_count": null,
   "metadata": {
    "scrolled": true
   },
   "outputs": [],
   "source": [
    "links = []  # create empty list for all links\n",
    "\n",
    "for name in names:\n",
    "    element_names = []    # create temporary list for element names\n",
    "    \n",
    "    # perform search by last name\n",
    "    browser.get('https://www.forevermissed.com/findmemorial/?q=' + name)\n",
    "    \n",
    "    # obtain search result line\n",
    "    search_result = browser.find_elements_by_class_name(\"bar\")\n",
    "    \n",
    "    # obtain number of people that match search result\n",
    "    for res in search_result:\n",
    "        # convert to string type\n",
    "        num_results = str(res.text)\n",
    "\n",
    "        # obtain the number of search results found\n",
    "        num_results = ''.join(filter(lambda x: x.isdigit(), txt))\n",
    "        \n",
    "    # we have the number....\n",
    "    num_results = int(num_results)    \n",
    "    offset = 0\n",
    "\n",
    "    # while loop that resets webpage to display 30 new individuals so that we can obtain 30 more links\n",
    "    while offset < num_results:\n",
    "        \n",
    "        # navigate to webpage with 30 search results\n",
    "        browser.get('https://www.forevermissed.com/findmemorial/?q=' + name + '&offset=' + str(offset))\n",
    "        \n",
    "        # increase the offset by 30 to obtain 30 new results next loop through\n",
    "        offset += 30\n",
    "    \n",
    "        # obtain the link for the individual\n",
    "        inputElement = browser.find_elements_by_class_name(\"memorial-link\")\n",
    "\n",
    "        # append the links to a list\n",
    "        for el in inputElement:\n",
    "            element_names.append(el.text)\n",
    "\n",
    "    # append the list of links to a larger list        \n",
    "    links.append(element_names)\n",
    "    \n",
    "links\n",
    "\n",
    "# remove troublesome links (because they are too long)\n",
    "links[1].remove('grandpa-fred-uncle-mike-and-my-step-dad-grandma-paula-and-grandma-joanne.forevermissed.com')\n",
    "links[0].remove('louise-monica-vincent-big-funk-aunt-re-jane-and-sylvester-smith-love-williams-and-pirtle.forevermissed.com')\n",
    "\n",
    "\n",
    "# output links to a text file\n",
    "with open('memorial_links.txt', 'w') as f:\n",
    "    for _list in links:\n",
    "        f.write(str(_list) + '\\n')\n",
    "            \n",
    "file.close()\n",
    "\n",
    "\n"
   ]
  },
  {
   "cell_type": "code",
   "execution_count": null,
   "metadata": {
    "scrolled": true
   },
   "outputs": [],
   "source": [
    "from bs4 import BeautifulSoup as bs\n",
    "import requests\n",
    "\n",
    "tribute_text = []\n",
    "\n",
    "for i in range(0, len(links)):\n",
    "    for link in links[i]:\n",
    "         \n",
    "        response = requests.get('http://' + link)\n",
    "        # print(response.text)  \n",
    "\n",
    "        soup = bs(response.text, \"html.parser\")\n",
    "        # print(soup.prettify())\n",
    "\n",
    "        # obtain the text from written tribute\n",
    "        user_text = soup.findAll(attrs={'class':'txt user_text'})\n",
    "\n",
    "        # iterate through each instance and convert text to string type\n",
    "        for text in user_text:\n",
    "            tribute_text.append(str(text))\n",
    "\n",
    "# Do the same for stories tab\n",
    "stories_text = []\n",
    "for i in range(0, len(links)):\n",
    "    for link in links[i]:\n",
    "         \n",
    "        response = requests.get('http://' + link + '/#stories')\n",
    "        # print(response.text)  \n",
    "\n",
    "        soup = bs(response.text, \"html.parser\")\n",
    "        # print(soup.prettify())\n",
    "\n",
    "        # obtain the text from written tribute\n",
    "        user_text = soup.findAll(attrs={'class':'user_text'})\n",
    "\n",
    "        # iterate through each instance and convert text to string type\n",
    "        for text in user_text:\n",
    "            stories_text.append(str(text))"
   ]
  },
  {
   "cell_type": "code",
   "execution_count": null,
   "metadata": {},
   "outputs": [],
   "source": [
    "cleaned_tribute_text = []\n",
    "cleaned_stories_text = []\n",
    "\n",
    "# clean the data\n",
    "for item in tribute_text:\n",
    "    item = item.strip('\\n')\n",
    "    item = item.strip('<div class=\"txt user_text\">')\n",
    "    item = item.strip('</')\n",
    "    item = item.replace('\\n', ' ')\n",
    "    cleaned_tribute_text.append(item)\n",
    "    \n",
    "for item in stories_text:\n",
    "    item = item.strip('\\n')\n",
    "    item = item.strip('<div class=\"txt user_text\">')\n",
    "    item = item.strip('</')\n",
    "    item = item.replace('\\n', ' ')\n",
    "    cleaned_stories_text.append(item)\n",
    "\n",
    "# output to a text file\n",
    "with open('cleaned_tribute_text.txt', 'w') as f:\n",
    "    for _list in cleaned_tribute_text:\n",
    "        f.write(str(_list) + '\\n')         \n",
    "file.close()\n",
    "\n",
    "with open('cleaned_stories_text.txt', 'w') as f:\n",
    "    for _list in cleaned_stories_text:\n",
    "        f.write(str(_list) + '\\n')         \n",
    "file.close()"
   ]
  },
  {
   "cell_type": "code",
   "execution_count": null,
   "metadata": {},
   "outputs": [],
   "source": [
    "# # do this for the \"Smith\" last names\n",
    "# memories_list = []\n",
    "\n",
    "# for link in links[3]:\n",
    "#     browser.get('http://' + link)\n",
    "    \n",
    "# #     WebDriverWait(browser, 10).until(EC.presence_of_element_located((By.ID, \"page-tributes\")))\n",
    "# #     WebDriverWait(browser, 10).until(EC.presence_of_all_elements_located)\n",
    "    \n",
    "# #     WebDriverWait(browser, 2000)\n",
    "    \n",
    "# #     inputElement = browser.find_elements_by_css_selector(\"txt user_text\")\n",
    "#     inputElement = browser.find_elements_by_class_name(\".personal_phrase_font.long\")\n",
    "#     inputElement = browser.find_element(By.CSS_SELECTOR, \"txt user_text\")\n",
    "#     print(inputElement)\n",
    "    \n",
    "    \n",
    "#     for el in inputElement:\n",
    "#         print(el.text)\n",
    "# #         memories_list.append(el.text)\n",
    "\n",
    "    \n",
    "\n"
   ]
  },
  {
   "cell_type": "code",
   "execution_count": null,
   "metadata": {},
   "outputs": [],
   "source": []
  }
 ],
 "metadata": {
  "kernelspec": {
   "display_name": "Python 3",
   "language": "python",
   "name": "python3"
  },
  "language_info": {
   "codemirror_mode": {
    "name": "ipython",
    "version": 3
   },
   "file_extension": ".py",
   "mimetype": "text/x-python",
   "name": "python",
   "nbconvert_exporter": "python",
   "pygments_lexer": "ipython3",
   "version": "3.7.3"
  }
 },
 "nbformat": 4,
 "nbformat_minor": 2
}
