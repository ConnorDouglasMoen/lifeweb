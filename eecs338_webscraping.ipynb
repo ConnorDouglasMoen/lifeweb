{
 "cells": [
  {
   "cell_type": "code",
   "execution_count": 1,
   "metadata": {},
   "outputs": [],
   "source": [
    "# This is a jupyter notebook to be used to scrape internet data"
   ]
  },
  {
   "cell_type": "code",
   "execution_count": 2,
   "metadata": {},
   "outputs": [],
   "source": [
    "from selenium import webdriver\n",
    "from selenium.webdriver.common.by import By\n",
    "from selenium.webdriver.support.ui import WebDriverWait\n",
    "from selenium.webdriver.support import expected_conditions as EC"
   ]
  },
  {
   "cell_type": "code",
   "execution_count": 3,
   "metadata": {},
   "outputs": [],
   "source": [
    "browser = webdriver.Chrome('/Users/aea/Downloads/chromedriver')\n",
    "names = ['Smith', 'Johnson', 'Jones', 'Moen']"
   ]
  },
  {
   "cell_type": "code",
   "execution_count": 4,
   "metadata": {
    "scrolled": true
   },
   "outputs": [
    {
     "data": {
      "text/plain": [
       "[['deborah-kay-smith.forevermissed.com',\n",
       "  'david-john-smithy.forevermissed.com',\n",
       "  'ricky-james-smith.forevermissed.com',\n",
       "  'elizabeth-ann-smith-.forevermissed.com',\n",
       "  'carl-lester-smith.forevermissed.com',\n",
       "  'james-albert-smith-jr.forevermissed.com',\n",
       "  'cynthia-ann-adams-smith.forevermissed.com',\n",
       "  'brett-michael-smith.forevermissed.com',\n",
       "  'patrick-jay-smith.forevermissed.com',\n",
       "  'bonnie-june-smith.forevermissed.com',\n",
       "  'sylvia-sue-smith-cheshire.forevermissed.com',\n",
       "  'alan-charles-smith.forevermissed.com',\n",
       "  'jeremy-smith.forevermissed.com',\n",
       "  'joseph-allan-smith.forevermissed.com',\n",
       "  'michelle-smith.forevermissed.com',\n",
       "  'anthony-ron-smith.forevermissed.com',\n",
       "  'violet-virginia-smith.forevermissed.com',\n",
       "  'ada-smith.forevermissed.com',\n",
       "  'james-smith-pop.forevermissed.com',\n",
       "  'mike--tarz-smith.forevermissed.com',\n",
       "  'gene-boyd-smith.forevermissed.com',\n",
       "  'zayden-smith.forevermissed.com',\n",
       "  'maycie-smith.forevermissed.com',\n",
       "  'milton-ellison-smith.forevermissed.com',\n",
       "  'skyler-michael-smith.forevermissed.com',\n",
       "  'larry-jay-smith.forevermissed.com',\n",
       "  'steven-allen-smith.forevermissed.com',\n",
       "  'james-d-smith.forevermissed.com',\n",
       "  'florence-olufunke-adunni-smith.forevermissed.com',\n",
       "  'mary-lee-smith.forevermissed.com'],\n",
       " ['thomas-willaim-johnson.forevermissed.com',\n",
       "  'kelsey-kalene-johnson.forevermissed.com',\n",
       "  'hannah-nicole-johnson.forevermissed.com',\n",
       "  'dorothy-helen-johnson-.forevermissed.com',\n",
       "  'sandra-kay-page-johnson.forevermissed.com',\n",
       "  'chandler-blake-johnson.forevermissed.com',\n",
       "  'kory-anthony-james-johnson-.forevermissed.com',\n",
       "  'william-johnson.forevermissed.com',\n",
       "  'samuel-lee-johnson.forevermissed.com',\n",
       "  'alicia-corene-johnson.forevermissed.com',\n",
       "  'xzaiden-henry-johnson.forevermissed.com',\n",
       "  'roger-franklin-johnson.forevermissed.com',\n",
       "  'tyler-alan-johnson.forevermissed.com',\n",
       "  'jeffrey-wayne-johnson.forevermissed.com',\n",
       "  'april-dawn-johnson.forevermissed.com',\n",
       "  'billy-winston-johnson.forevermissed.com',\n",
       "  'monica-jean-johnson.forevermissed.com',\n",
       "  'billy-eugene-johnson.forevermissed.com',\n",
       "  'gene-johnson.forevermissed.com',\n",
       "  'felicia-powell-johnson.forevermissed.com',\n",
       "  'robert-john-johnson.forevermissed.com',\n",
       "  'flexlikejordan.forevermissed.com',\n",
       "  'james-benjimen-johnson.forevermissed.com',\n",
       "  'ajanae-tiarra-johnson.forevermissed.com',\n",
       "  'twitter-shelovegucci-follow-me.forevermissed.com',\n",
       "  'harry-laverne-johnson.forevermissed.com',\n",
       "  'john-edward-johnson.forevermissed.com',\n",
       "  'rose-elizabeth-johnson.forevermissed.com',\n",
       "  'linda-johnson.forevermissed.com',\n",
       "  'helen-sue-johnson-.forevermissed.com'],\n",
       " ['parker-tefft-jones-iii.forevermissed.com',\n",
       "  'linda-delores-jones.forevermissed.com',\n",
       "  'booker-talfaro-jones.forevermissed.com',\n",
       "  'deshawn-anthony-jones.forevermissed.com',\n",
       "  'selena-tracy-jones.forevermissed.com',\n",
       "  'ray-douglas-jones.forevermissed.com',\n",
       "  'kyreise-amori-jones-broussard.forevermissed.com',\n",
       "  'wanda-kay-jones-walton.forevermissed.com',\n",
       "  'ralph-a-jones.forevermissed.com',\n",
       "  'tracy-lynne-jones.forevermissed.com',\n",
       "  'barbara-jones-33.forevermissed.com',\n",
       "  'robert-r-jones.forevermissed.com',\n",
       "  'barbara-jones12.forevermissed.com',\n",
       "  'kristen-renae-jones.forevermissed.com',\n",
       "  'david-noble-jones.forevermissed.com',\n",
       "  'thomas-joseph-jones.forevermissed.com',\n",
       "  'myra-jene-jones.forevermissed.com',\n",
       "  'mary-jones99.forevermissed.com',\n",
       "  'kathy-jones.forevermissed.com',\n",
       "  'sarah-jane-jones.forevermissed.com',\n",
       "  'donna-gresham-jones.forevermissed.com',\n",
       "  'jones-andrew-jermaine.forevermissed.com',\n",
       "  'forrest-allen-jones.forevermissed.com',\n",
       "  'justin-c-howard-jones.forevermissed.com',\n",
       "  'maggen-jones.forevermissed.com',\n",
       "  'rachel-oleta-jones.forevermissed.com',\n",
       "  'mary-frances-jones.forevermissed.com',\n",
       "  'abbyberriegmailcom.forevermissed.com',\n",
       "  'deborah-jones.forevermissed.com',\n",
       "  'michael-romaine-jones.forevermissed.com'],\n",
       " ['roy-moentmann.forevermissed.com',\n",
       "  'ryan-joseph-moench.forevermissed.com',\n",
       "  'joan-ethel-moenter.forevermissed.com',\n",
       "  'raymond-mellesmoen.forevermissed.com',\n",
       "  'marilyn-a-moen.forevermissed.com']]"
      ]
     },
     "execution_count": 4,
     "metadata": {},
     "output_type": "execute_result"
    }
   ],
   "source": [
    "links = []  # create empty list for all links\n",
    "\n",
    "for name in names:\n",
    "    element_names = []    # create temporary list for element names\n",
    "    \n",
    "    browser.get('https://www.forevermissed.com/findmemorial/?q=' + name)\n",
    "    inputElement = browser.find_elements_by_class_name(\"memorial-link\")\n",
    "    \n",
    "    for el in inputElement:\n",
    "        element_names.append(el.text)\n",
    "              \n",
    "    links.append(element_names)\n",
    "    \n",
    "links"
   ]
  },
  {
   "cell_type": "code",
   "execution_count": 15,
   "metadata": {},
   "outputs": [
    {
     "ename": "NoSuchElementException",
     "evalue": "Message: no such element: Unable to locate element: {\"method\":\"css selector\",\"selector\":\"txt user_text\"}\n  (Session info: chrome=73.0.3683.103)\n  (Driver info: chromedriver=73.0.3683.68 (47787ec04b6e38e22703e856e101e840b65afe72),platform=Mac OS X 10.14.0 x86_64)\n",
     "output_type": "error",
     "traceback": [
      "\u001b[0;31m---------------------------------------------------------------------------\u001b[0m",
      "\u001b[0;31mNoSuchElementException\u001b[0m                    Traceback (most recent call last)",
      "\u001b[0;32m<ipython-input-15-8d163024816e>\u001b[0m in \u001b[0;36m<module>\u001b[0;34m\u001b[0m\n\u001b[1;32m     12\u001b[0m \u001b[0;31m#     inputElement = browser.find_elements_by_css_selector(\"txt user_text\")\u001b[0m\u001b[0;34m\u001b[0m\u001b[0;34m\u001b[0m\u001b[0;34m\u001b[0m\u001b[0m\n\u001b[1;32m     13\u001b[0m     \u001b[0minputElement\u001b[0m \u001b[0;34m=\u001b[0m \u001b[0mbrowser\u001b[0m\u001b[0;34m.\u001b[0m\u001b[0mfind_elements_by_class_name\u001b[0m\u001b[0;34m(\u001b[0m\u001b[0;34m\".personal_phrase_font.long\"\u001b[0m\u001b[0;34m)\u001b[0m\u001b[0;34m\u001b[0m\u001b[0;34m\u001b[0m\u001b[0m\n\u001b[0;32m---> 14\u001b[0;31m     \u001b[0minputElement\u001b[0m \u001b[0;34m=\u001b[0m \u001b[0mbrowser\u001b[0m\u001b[0;34m.\u001b[0m\u001b[0mfind_element\u001b[0m\u001b[0;34m(\u001b[0m\u001b[0mBy\u001b[0m\u001b[0;34m.\u001b[0m\u001b[0mCSS_SELECTOR\u001b[0m\u001b[0;34m,\u001b[0m \u001b[0;34m\"txt user_text\"\u001b[0m\u001b[0;34m)\u001b[0m\u001b[0;34m\u001b[0m\u001b[0;34m\u001b[0m\u001b[0m\n\u001b[0m\u001b[1;32m     15\u001b[0m     \u001b[0mprint\u001b[0m\u001b[0;34m(\u001b[0m\u001b[0minputElement\u001b[0m\u001b[0;34m)\u001b[0m\u001b[0;34m\u001b[0m\u001b[0;34m\u001b[0m\u001b[0m\n\u001b[1;32m     16\u001b[0m \u001b[0;34m\u001b[0m\u001b[0m\n",
      "\u001b[0;32m~/anaconda3/lib/python3.6/site-packages/selenium/webdriver/remote/webdriver.py\u001b[0m in \u001b[0;36mfind_element\u001b[0;34m(self, by, value)\u001b[0m\n\u001b[1;32m    976\u001b[0m         return self.execute(Command.FIND_ELEMENT, {\n\u001b[1;32m    977\u001b[0m             \u001b[0;34m'using'\u001b[0m\u001b[0;34m:\u001b[0m \u001b[0mby\u001b[0m\u001b[0;34m,\u001b[0m\u001b[0;34m\u001b[0m\u001b[0;34m\u001b[0m\u001b[0m\n\u001b[0;32m--> 978\u001b[0;31m             'value': value})['value']\n\u001b[0m\u001b[1;32m    979\u001b[0m \u001b[0;34m\u001b[0m\u001b[0m\n\u001b[1;32m    980\u001b[0m     \u001b[0;32mdef\u001b[0m \u001b[0mfind_elements\u001b[0m\u001b[0;34m(\u001b[0m\u001b[0mself\u001b[0m\u001b[0;34m,\u001b[0m \u001b[0mby\u001b[0m\u001b[0;34m=\u001b[0m\u001b[0mBy\u001b[0m\u001b[0;34m.\u001b[0m\u001b[0mID\u001b[0m\u001b[0;34m,\u001b[0m \u001b[0mvalue\u001b[0m\u001b[0;34m=\u001b[0m\u001b[0;32mNone\u001b[0m\u001b[0;34m)\u001b[0m\u001b[0;34m:\u001b[0m\u001b[0;34m\u001b[0m\u001b[0;34m\u001b[0m\u001b[0m\n",
      "\u001b[0;32m~/anaconda3/lib/python3.6/site-packages/selenium/webdriver/remote/webdriver.py\u001b[0m in \u001b[0;36mexecute\u001b[0;34m(self, driver_command, params)\u001b[0m\n\u001b[1;32m    319\u001b[0m         \u001b[0mresponse\u001b[0m \u001b[0;34m=\u001b[0m \u001b[0mself\u001b[0m\u001b[0;34m.\u001b[0m\u001b[0mcommand_executor\u001b[0m\u001b[0;34m.\u001b[0m\u001b[0mexecute\u001b[0m\u001b[0;34m(\u001b[0m\u001b[0mdriver_command\u001b[0m\u001b[0;34m,\u001b[0m \u001b[0mparams\u001b[0m\u001b[0;34m)\u001b[0m\u001b[0;34m\u001b[0m\u001b[0;34m\u001b[0m\u001b[0m\n\u001b[1;32m    320\u001b[0m         \u001b[0;32mif\u001b[0m \u001b[0mresponse\u001b[0m\u001b[0;34m:\u001b[0m\u001b[0;34m\u001b[0m\u001b[0;34m\u001b[0m\u001b[0m\n\u001b[0;32m--> 321\u001b[0;31m             \u001b[0mself\u001b[0m\u001b[0;34m.\u001b[0m\u001b[0merror_handler\u001b[0m\u001b[0;34m.\u001b[0m\u001b[0mcheck_response\u001b[0m\u001b[0;34m(\u001b[0m\u001b[0mresponse\u001b[0m\u001b[0;34m)\u001b[0m\u001b[0;34m\u001b[0m\u001b[0;34m\u001b[0m\u001b[0m\n\u001b[0m\u001b[1;32m    322\u001b[0m             response['value'] = self._unwrap_value(\n\u001b[1;32m    323\u001b[0m                 response.get('value', None))\n",
      "\u001b[0;32m~/anaconda3/lib/python3.6/site-packages/selenium/webdriver/remote/errorhandler.py\u001b[0m in \u001b[0;36mcheck_response\u001b[0;34m(self, response)\u001b[0m\n\u001b[1;32m    240\u001b[0m                 \u001b[0malert_text\u001b[0m \u001b[0;34m=\u001b[0m \u001b[0mvalue\u001b[0m\u001b[0;34m[\u001b[0m\u001b[0;34m'alert'\u001b[0m\u001b[0;34m]\u001b[0m\u001b[0;34m.\u001b[0m\u001b[0mget\u001b[0m\u001b[0;34m(\u001b[0m\u001b[0;34m'text'\u001b[0m\u001b[0;34m)\u001b[0m\u001b[0;34m\u001b[0m\u001b[0;34m\u001b[0m\u001b[0m\n\u001b[1;32m    241\u001b[0m             \u001b[0;32mraise\u001b[0m \u001b[0mexception_class\u001b[0m\u001b[0;34m(\u001b[0m\u001b[0mmessage\u001b[0m\u001b[0;34m,\u001b[0m \u001b[0mscreen\u001b[0m\u001b[0;34m,\u001b[0m \u001b[0mstacktrace\u001b[0m\u001b[0;34m,\u001b[0m \u001b[0malert_text\u001b[0m\u001b[0;34m)\u001b[0m\u001b[0;34m\u001b[0m\u001b[0;34m\u001b[0m\u001b[0m\n\u001b[0;32m--> 242\u001b[0;31m         \u001b[0;32mraise\u001b[0m \u001b[0mexception_class\u001b[0m\u001b[0;34m(\u001b[0m\u001b[0mmessage\u001b[0m\u001b[0;34m,\u001b[0m \u001b[0mscreen\u001b[0m\u001b[0;34m,\u001b[0m \u001b[0mstacktrace\u001b[0m\u001b[0;34m)\u001b[0m\u001b[0;34m\u001b[0m\u001b[0;34m\u001b[0m\u001b[0m\n\u001b[0m\u001b[1;32m    243\u001b[0m \u001b[0;34m\u001b[0m\u001b[0m\n\u001b[1;32m    244\u001b[0m     \u001b[0;32mdef\u001b[0m \u001b[0m_value_or_default\u001b[0m\u001b[0;34m(\u001b[0m\u001b[0mself\u001b[0m\u001b[0;34m,\u001b[0m \u001b[0mobj\u001b[0m\u001b[0;34m,\u001b[0m \u001b[0mkey\u001b[0m\u001b[0;34m,\u001b[0m \u001b[0mdefault\u001b[0m\u001b[0;34m)\u001b[0m\u001b[0;34m:\u001b[0m\u001b[0;34m\u001b[0m\u001b[0;34m\u001b[0m\u001b[0m\n",
      "\u001b[0;31mNoSuchElementException\u001b[0m: Message: no such element: Unable to locate element: {\"method\":\"css selector\",\"selector\":\"txt user_text\"}\n  (Session info: chrome=73.0.3683.103)\n  (Driver info: chromedriver=73.0.3683.68 (47787ec04b6e38e22703e856e101e840b65afe72),platform=Mac OS X 10.14.0 x86_64)\n"
     ]
    }
   ],
   "source": [
    "# do this for the \"Smith\" last names\n",
    "memories_list = []\n",
    "\n",
    "for link in links[3]:\n",
    "    browser.get('http://' + link)\n",
    "    \n",
    "#     WebDriverWait(browser, 10).until(EC.presence_of_element_located((By.ID, \"page-tributes\")))\n",
    "#     WebDriverWait(browser, 10).until(EC.presence_of_all_elements_located)\n",
    "    \n",
    "#     WebDriverWait(browser, 2000)\n",
    "    \n",
    "#     inputElement = browser.find_elements_by_css_selector(\"txt user_text\")\n",
    "    inputElement = browser.find_elements_by_class_name(\".personal_phrase_font.long\")\n",
    "    inputElement = browser.find_element(By.CSS_SELECTOR, \"txt user_text\")\n",
    "    print(inputElement)\n",
    "    \n",
    "    \n",
    "    for el in inputElement:\n",
    "        print(el.text)\n",
    "#         memories_list.append(el.text)\n",
    "\n",
    "    \n",
    "\n"
   ]
  },
  {
   "cell_type": "code",
   "execution_count": 6,
   "metadata": {},
   "outputs": [
    {
     "data": {
      "text/plain": [
       "[]"
      ]
     },
     "execution_count": 6,
     "metadata": {},
     "output_type": "execute_result"
    }
   ],
   "source": [
    "memories_list"
   ]
  },
  {
   "cell_type": "code",
   "execution_count": null,
   "metadata": {},
   "outputs": [],
   "source": []
  }
 ],
 "metadata": {
  "kernelspec": {
   "display_name": "Python 3",
   "language": "python",
   "name": "python3"
  },
  "language_info": {
   "codemirror_mode": {
    "name": "ipython",
    "version": 3
   },
   "file_extension": ".py",
   "mimetype": "text/x-python",
   "name": "python",
   "nbconvert_exporter": "python",
   "pygments_lexer": "ipython3",
   "version": "3.6.8"
  }
 },
 "nbformat": 4,
 "nbformat_minor": 2
}
